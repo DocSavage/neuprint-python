{
 "cells": [
  {
   "cell_type": "markdown",
   "metadata": {},
   "source": [
    "# Estimate neuron timing\n",
    "\n",
    "This notebook shows how to estimate the delay and amplitude response between primary brain regions for a given neuron.  In general, the delay within a compartment tends to be isopotential meaning a region to region response matrix is a reasonable characterization of the output response of a neuron.\n",
    "\n",
    "The electrical simulation uses a simple linear passive model using a network of resistors and capacitors based on a skeleton representation of the neuron.  Users can specify specific membrane resistance and capacitance values and cytoplasm resitance."
   ]
  },
  {
   "cell_type": "markdown",
   "metadata": {},
   "source": [
    "### Setup neuron model\n",
    "\n",
    "* create neuprint client using the public hemibrain dataset\n",
    "* build a neuron spice model for a given body id"
   ]
  },
  {
   "cell_type": "code",
   "execution_count": 1,
   "metadata": {},
   "outputs": [
    {
     "data": {
      "application/vnd.jupyter.widget-view+json": {
       "model_id": "21df43a15a36418ca5250a6dc7ded2cc",
       "version_major": 2,
       "version_minor": 0
      },
      "text/plain": [
       "HBox(children=(FloatProgress(value=0.0), HTML(value='')))"
      ]
     },
     "metadata": {},
     "output_type": "display_data"
    },
    {
     "name": "stdout",
     "output_type": "stream",
     "text": [
      "\n"
     ]
    }
   ],
   "source": [
    "# simulate a PEG neuron (same type as in hemibrain paper)\n",
    "from neuprint import Client, NeuronModel\n",
    "client = Client(\"neuprint.janelia.org\", dataset=\"hemibrain:v1.0.1\")\n",
    "nm = NeuronModel(449438847)"
   ]
  },
  {
   "cell_type": "markdown",
   "metadata": {},
   "source": [
    "### Run simulation for the given neuron\n",
    "\n",
    "Specify the number of inputs per brain region (randomly selected) which will be tested.  A current is injected at each input site one at a time and delay and amplitude response is measured."
   ]
  },
  {
   "cell_type": "code",
   "execution_count": 2,
   "metadata": {},
   "outputs": [
    {
     "data": {
      "application/vnd.jupyter.widget-view+json": {
       "model_id": "77c0ab97f96f4152a0b658cf5bcf24ed",
       "version_major": 2,
       "version_minor": 0
      },
      "text/plain": [
       "HBox(children=(FloatProgress(value=0.0, max=12.0), HTML(value='')))"
      ]
     },
     "metadata": {},
     "output_type": "display_data"
    },
    {
     "name": "stdout",
     "output_type": "stream",
     "text": [
      "\n"
     ]
    }
   ],
   "source": [
    "res = nm.simulate(2)"
   ]
  },
  {
   "cell_type": "markdown",
   "metadata": {},
   "source": [
    "### Examine the response results\n",
    "\n",
    "compute_region_delay_matrix reports the delay between regions where the row index is the input brain region and the column names represent the output region.  A delay (ms) and amplitude (mV) are returned.  They are averages over all the response for a given region input-output pair.\n",
    "\n",
    "Note: the results to synapses that are not in brain regions (\"none\") are shown for completeness.  But those output responses are not necessarily co-located and cannot be treated as an ROI."
   ]
  },
  {
   "cell_type": "code",
   "execution_count": 3,
   "metadata": {},
   "outputs": [],
   "source": [
    "delay, amp = res.compute_region_delay_matrix()"
   ]
  },
  {
   "cell_type": "code",
   "execution_count": 4,
   "metadata": {},
   "outputs": [
    {
     "data": {
      "text/html": [
       "<div>\n",
       "<style scoped>\n",
       "    .dataframe tbody tr th:only-of-type {\n",
       "        vertical-align: middle;\n",
       "    }\n",
       "\n",
       "    .dataframe tbody tr th {\n",
       "        vertical-align: top;\n",
       "    }\n",
       "\n",
       "    .dataframe thead th {\n",
       "        text-align: right;\n",
       "    }\n",
       "</style>\n",
       "<table border=\"1\" class=\"dataframe\">\n",
       "  <thead>\n",
       "    <tr style=\"text-align: right;\">\n",
       "      <th></th>\n",
       "      <th>EB</th>\n",
       "      <th>LAL(R)</th>\n",
       "      <th>PB</th>\n",
       "      <th>none</th>\n",
       "    </tr>\n",
       "  </thead>\n",
       "  <tbody>\n",
       "    <tr>\n",
       "      <th>CRE(R)</th>\n",
       "      <td>2.074233</td>\n",
       "      <td>0.427321</td>\n",
       "      <td>3.208169</td>\n",
       "      <td>2.539196</td>\n",
       "    </tr>\n",
       "    <tr>\n",
       "      <th>EB</th>\n",
       "      <td>1.216964</td>\n",
       "      <td>2.374656</td>\n",
       "      <td>3.084767</td>\n",
       "      <td>2.402253</td>\n",
       "    </tr>\n",
       "    <tr>\n",
       "      <th>FB</th>\n",
       "      <td>1.891734</td>\n",
       "      <td>2.345292</td>\n",
       "      <td>1.251374</td>\n",
       "      <td>0.387529</td>\n",
       "    </tr>\n",
       "    <tr>\n",
       "      <th>LAL(R)</th>\n",
       "      <td>2.438415</td>\n",
       "      <td>0.302568</td>\n",
       "      <td>3.553942</td>\n",
       "      <td>2.889978</td>\n",
       "    </tr>\n",
       "    <tr>\n",
       "      <th>PB</th>\n",
       "      <td>3.152290</td>\n",
       "      <td>3.558322</td>\n",
       "      <td>0.473569</td>\n",
       "      <td>0.718993</td>\n",
       "    </tr>\n",
       "    <tr>\n",
       "      <th>none</th>\n",
       "      <td>2.569125</td>\n",
       "      <td>2.990450</td>\n",
       "      <td>0.686466</td>\n",
       "      <td>0.146879</td>\n",
       "    </tr>\n",
       "  </tbody>\n",
       "</table>\n",
       "</div>"
      ],
      "text/plain": [
       "              EB    LAL(R)        PB      none\n",
       "CRE(R)  2.074233  0.427321  3.208169  2.539196\n",
       "EB      1.216964  2.374656  3.084767  2.402253\n",
       "FB      1.891734  2.345292  1.251374  0.387529\n",
       "LAL(R)  2.438415  0.302568  3.553942  2.889978\n",
       "PB      3.152290  3.558322  0.473569  0.718993\n",
       "none    2.569125  2.990450  0.686466  0.146879"
      ]
     },
     "execution_count": 4,
     "metadata": {},
     "output_type": "execute_result"
    }
   ],
   "source": [
    "# delay matrix in ms\n",
    "delay"
   ]
  },
  {
   "cell_type": "code",
   "execution_count": 5,
   "metadata": {},
   "outputs": [
    {
     "data": {
      "text/html": [
       "<div>\n",
       "<style scoped>\n",
       "    .dataframe tbody tr th:only-of-type {\n",
       "        vertical-align: middle;\n",
       "    }\n",
       "\n",
       "    .dataframe tbody tr th {\n",
       "        vertical-align: top;\n",
       "    }\n",
       "\n",
       "    .dataframe thead th {\n",
       "        text-align: right;\n",
       "    }\n",
       "</style>\n",
       "<table border=\"1\" class=\"dataframe\">\n",
       "  <thead>\n",
       "    <tr style=\"text-align: right;\">\n",
       "      <th></th>\n",
       "      <th>EB</th>\n",
       "      <th>LAL(R)</th>\n",
       "      <th>PB</th>\n",
       "      <th>none</th>\n",
       "    </tr>\n",
       "  </thead>\n",
       "  <tbody>\n",
       "    <tr>\n",
       "      <th>CRE(R)</th>\n",
       "      <td>0.153407</td>\n",
       "      <td>0.489385</td>\n",
       "      <td>0.122230</td>\n",
       "      <td>0.134334</td>\n",
       "    </tr>\n",
       "    <tr>\n",
       "      <th>EB</th>\n",
       "      <td>0.182199</td>\n",
       "      <td>0.147395</td>\n",
       "      <td>0.124669</td>\n",
       "      <td>0.137266</td>\n",
       "    </tr>\n",
       "    <tr>\n",
       "      <th>FB</th>\n",
       "      <td>0.152014</td>\n",
       "      <td>0.142513</td>\n",
       "      <td>0.176769</td>\n",
       "      <td>0.206041</td>\n",
       "    </tr>\n",
       "    <tr>\n",
       "      <th>LAL(R)</th>\n",
       "      <td>0.144995</td>\n",
       "      <td>0.845027</td>\n",
       "      <td>0.115858</td>\n",
       "      <td>0.127281</td>\n",
       "    </tr>\n",
       "    <tr>\n",
       "      <th>PB</th>\n",
       "      <td>0.122083</td>\n",
       "      <td>0.115356</td>\n",
       "      <td>0.404288</td>\n",
       "      <td>0.258750</td>\n",
       "    </tr>\n",
       "    <tr>\n",
       "      <th>none</th>\n",
       "      <td>0.134779</td>\n",
       "      <td>0.127127</td>\n",
       "      <td>0.279520</td>\n",
       "      <td>0.314567</td>\n",
       "    </tr>\n",
       "  </tbody>\n",
       "</table>\n",
       "</div>"
      ],
      "text/plain": [
       "              EB    LAL(R)        PB      none\n",
       "CRE(R)  0.153407  0.489385  0.122230  0.134334\n",
       "EB      0.182199  0.147395  0.124669  0.137266\n",
       "FB      0.152014  0.142513  0.176769  0.206041\n",
       "LAL(R)  0.144995  0.845027  0.115858  0.127281\n",
       "PB      0.122083  0.115356  0.404288  0.258750\n",
       "none    0.134779  0.127127  0.279520  0.314567"
      ]
     },
     "execution_count": 5,
     "metadata": {},
     "output_type": "execute_result"
    }
   ],
   "source": [
    "# amplitude in mV\n",
    "amp"
   ]
  },
  {
   "cell_type": "markdown",
   "metadata": {},
   "source": [
    "### Plot response from one brain region to others\n",
    "\n",
    "Each dot represents the response from each input from the specified input region (LAL(R) here) to every output in the neuron (each output brain region is indicated)."
   ]
  },
  {
   "cell_type": "code",
   "execution_count": 6,
   "metadata": {},
   "outputs": [
    {
     "data": {
      "image/png": "[encoded data removed]",
      "text/plain": [
       "<Figure size 432x288 with 1 Axes>"
      ]
     },
     "metadata": {
      "needs_background": "light"
     },
     "output_type": "display_data"
    }
   ],
   "source": [
    "res.plot_response_from_region(\"LAL(R)\")"
   ]
  },
  {
   "cell_type": "code",
   "execution_count": null,
   "metadata": {},
   "outputs": [],
   "source": []
  }
 ],
 "metadata": {
  "kernelspec": {
   "display_name": "Python 3",
   "language": "python",
   "name": "python3"
  },
  "language_info": {
   "codemirror_mode": {
    "name": "ipython",
    "version": 3
   },
   "file_extension": ".py",
   "mimetype": "text/x-python",
   "name": "python",
   "nbconvert_exporter": "python",
   "pygments_lexer": "ipython3",
   "version": "3.8.2"
  }
 },
 "nbformat": 4,
 "nbformat_minor": 4
}
