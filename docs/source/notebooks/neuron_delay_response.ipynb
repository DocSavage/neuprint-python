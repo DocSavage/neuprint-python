{
 "cells": [
  {
   "cell_type": "markdown",
   "metadata": {},
   "source": [
    "# Estimate neuron timing\n",
    "\n",
    "This notebook shows how to estimate the delay and amplitude response between primary brain regions for a given neuron.  In general, the delay within a compartment tends to be isopotential meaning a region to region response matrix is a reasonable characterization of the output response of a neuron.\n",
    "\n",
    "The electrical simulation uses a simple linear passive model using a network of resistors and capacitors based on a skeleton representation of the neuron.  Users can specify specific membrane resistance and capacitance values and cytoplasm resitance."
   ]
  },
  {
   "cell_type": "code",
   "execution_count": 1,
   "metadata": {},
   "outputs": [],
   "source": [
    "from neuprint import Client\n",
    "client = Client(\"neuprint.janelia.org\", dataset=\"hemibrain:v1.0.1\")"
   ]
  },
  {
   "cell_type": "markdown",
   "metadata": {},
   "source": [
    "### Setup neuron model\n",
    "\n",
    "* create neuprint client using the public hemibrain dataset\n",
    "* build a neuron spice model for a given body id"
   ]
  },
  {
   "cell_type": "code",
   "execution_count": 55,
   "metadata": {},
   "outputs": [
    {
     "data": {
      "application/vnd.jupyter.widget-view+json": {
       "model_id": "6c1f3ef277db41f7b017fd5f66b7ea47",
       "version_major": 2,
       "version_minor": 0
      },
      "text/plain": [
       "HBox(children=(FloatProgress(value=0.0), HTML(value='')))"
      ]
     },
     "metadata": {},
     "output_type": "display_data"
    },
    {
     "name": "stdout",
     "output_type": "stream",
     "text": [
      "\n"
     ]
    }
   ],
   "source": [
    "# simulate a PEG neuron (same type as in hemibrain paper)\n",
    "from neuprint import NeuronModel\n",
    "m = NeuronModel(449438847)"
   ]
  },
  {
   "cell_type": "markdown",
   "metadata": {},
   "source": [
    "### Run simulation for the given neuron\n",
    "\n",
    "Specify the number of inputs per brain region (randomly selected) which will be tested.  A current is injected at each input site one at a time and delay and amplitude response is measured."
   ]
  },
  {
   "cell_type": "code",
   "execution_count": 56,
   "metadata": {},
   "outputs": [
    {
     "data": {
      "application/vnd.jupyter.widget-view+json": {
       "model_id": "2878e3555a034629b67926ab4474df28",
       "version_major": 2,
       "version_minor": 0
      },
      "text/plain": [
       "HBox(children=(FloatProgress(value=0.0, max=12.0), HTML(value='')))"
      ]
     },
     "metadata": {},
     "output_type": "display_data"
    },
    {
     "name": "stdout",
     "output_type": "stream",
     "text": [
      "\n"
     ]
    }
   ],
   "source": [
    "res = nm.simulate(2)"
   ]
  },
  {
   "cell_type": "markdown",
   "metadata": {},
   "source": [
    "### Examine the response results\n",
    "\n",
    "compute_region_delay_matrix reports the delay between regions where the row index is the input brain region and the column names represent the output region.  A delay (ms) and amplitude (mV) are returned.  They are averages over all the response for a given region input-output pair.\n",
    "\n",
    "Note: the results to synapses that are not in brain regions (\"none\") are shown for completeness.  But those output responses are not necessarily co-located and cannot be treated as an ROI."
   ]
  },
  {
   "cell_type": "code",
   "execution_count": 57,
   "metadata": {},
   "outputs": [],
   "source": [
    "delay, amp = res.compute_region_delay_matrix()"
   ]
  },
  {
   "cell_type": "code",
   "execution_count": 58,
   "metadata": {},
   "outputs": [
    {
     "data": {
      "text/html": [
       "<div>\n",
       "<style scoped>\n",
       "    .dataframe tbody tr th:only-of-type {\n",
       "        vertical-align: middle;\n",
       "    }\n",
       "\n",
       "    .dataframe tbody tr th {\n",
       "        vertical-align: top;\n",
       "    }\n",
       "\n",
       "    .dataframe thead th {\n",
       "        text-align: right;\n",
       "    }\n",
       "</style>\n",
       "<table border=\"1\" class=\"dataframe\">\n",
       "  <thead>\n",
       "    <tr style=\"text-align: right;\">\n",
       "      <th></th>\n",
       "      <th>EB</th>\n",
       "      <th>LAL(R)</th>\n",
       "      <th>PB</th>\n",
       "      <th>none</th>\n",
       "    </tr>\n",
       "  </thead>\n",
       "  <tbody>\n",
       "    <tr>\n",
       "      <th>CRE(R)</th>\n",
       "      <td>2.074233</td>\n",
       "      <td>0.427321</td>\n",
       "      <td>3.208169</td>\n",
       "      <td>2.539196</td>\n",
       "    </tr>\n",
       "    <tr>\n",
       "      <th>EB</th>\n",
       "      <td>1.272199</td>\n",
       "      <td>2.457093</td>\n",
       "      <td>3.166389</td>\n",
       "      <td>2.483819</td>\n",
       "    </tr>\n",
       "    <tr>\n",
       "      <th>FB</th>\n",
       "      <td>1.773313</td>\n",
       "      <td>2.231447</td>\n",
       "      <td>1.533720</td>\n",
       "      <td>0.664264</td>\n",
       "    </tr>\n",
       "    <tr>\n",
       "      <th>LAL(R)</th>\n",
       "      <td>2.417689</td>\n",
       "      <td>0.307791</td>\n",
       "      <td>3.533629</td>\n",
       "      <td>2.869227</td>\n",
       "    </tr>\n",
       "    <tr>\n",
       "      <th>PB</th>\n",
       "      <td>3.159437</td>\n",
       "      <td>3.566067</td>\n",
       "      <td>0.418263</td>\n",
       "      <td>0.730713</td>\n",
       "    </tr>\n",
       "    <tr>\n",
       "      <th>none</th>\n",
       "      <td>2.569125</td>\n",
       "      <td>2.990450</td>\n",
       "      <td>0.686466</td>\n",
       "      <td>0.146879</td>\n",
       "    </tr>\n",
       "  </tbody>\n",
       "</table>\n",
       "</div>"
      ],
      "text/plain": [
       "              EB    LAL(R)        PB      none\n",
       "CRE(R)  2.074233  0.427321  3.208169  2.539196\n",
       "EB      1.272199  2.457093  3.166389  2.483819\n",
       "FB      1.773313  2.231447  1.533720  0.664264\n",
       "LAL(R)  2.417689  0.307791  3.533629  2.869227\n",
       "PB      3.159437  3.566067  0.418263  0.730713\n",
       "none    2.569125  2.990450  0.686466  0.146879"
      ]
     },
     "execution_count": 58,
     "metadata": {},
     "output_type": "execute_result"
    }
   ],
   "source": [
    "# delay matrix in ms\n",
    "delay"
   ]
  },
  {
   "cell_type": "code",
   "execution_count": 59,
   "metadata": {},
   "outputs": [
    {
     "data": {
      "text/html": [
       "<div>\n",
       "<style scoped>\n",
       "    .dataframe tbody tr th:only-of-type {\n",
       "        vertical-align: middle;\n",
       "    }\n",
       "\n",
       "    .dataframe tbody tr th {\n",
       "        vertical-align: top;\n",
       "    }\n",
       "\n",
       "    .dataframe thead th {\n",
       "        text-align: right;\n",
       "    }\n",
       "</style>\n",
       "<table border=\"1\" class=\"dataframe\">\n",
       "  <thead>\n",
       "    <tr style=\"text-align: right;\">\n",
       "      <th></th>\n",
       "      <th>EB</th>\n",
       "      <th>LAL(R)</th>\n",
       "      <th>PB</th>\n",
       "      <th>none</th>\n",
       "    </tr>\n",
       "  </thead>\n",
       "  <tbody>\n",
       "    <tr>\n",
       "      <th>CRE(R)</th>\n",
       "      <td>0.153407</td>\n",
       "      <td>0.489385</td>\n",
       "      <td>0.122230</td>\n",
       "      <td>0.134334</td>\n",
       "    </tr>\n",
       "    <tr>\n",
       "      <th>EB</th>\n",
       "      <td>0.183613</td>\n",
       "      <td>0.145670</td>\n",
       "      <td>0.123220</td>\n",
       "      <td>0.135669</td>\n",
       "    </tr>\n",
       "    <tr>\n",
       "      <th>FB</th>\n",
       "      <td>0.155724</td>\n",
       "      <td>0.145724</td>\n",
       "      <td>0.161921</td>\n",
       "      <td>0.184782</td>\n",
       "    </tr>\n",
       "    <tr>\n",
       "      <th>LAL(R)</th>\n",
       "      <td>0.145214</td>\n",
       "      <td>0.819823</td>\n",
       "      <td>0.116035</td>\n",
       "      <td>0.127469</td>\n",
       "    </tr>\n",
       "    <tr>\n",
       "      <th>PB</th>\n",
       "      <td>0.123189</td>\n",
       "      <td>0.116393</td>\n",
       "      <td>0.429269</td>\n",
       "      <td>0.261877</td>\n",
       "    </tr>\n",
       "    <tr>\n",
       "      <th>none</th>\n",
       "      <td>0.134779</td>\n",
       "      <td>0.127127</td>\n",
       "      <td>0.279520</td>\n",
       "      <td>0.314567</td>\n",
       "    </tr>\n",
       "  </tbody>\n",
       "</table>\n",
       "</div>"
      ],
      "text/plain": [
       "              EB    LAL(R)        PB      none\n",
       "CRE(R)  0.153407  0.489385  0.122230  0.134334\n",
       "EB      0.183613  0.145670  0.123220  0.135669\n",
       "FB      0.155724  0.145724  0.161921  0.184782\n",
       "LAL(R)  0.145214  0.819823  0.116035  0.127469\n",
       "PB      0.123189  0.116393  0.429269  0.261877\n",
       "none    0.134779  0.127127  0.279520  0.314567"
      ]
     },
     "execution_count": 59,
     "metadata": {},
     "output_type": "execute_result"
    }
   ],
   "source": [
    "# amplitude in mV\n",
    "amp"
   ]
  },
  {
   "cell_type": "markdown",
   "metadata": {},
   "source": [
    "### Plot response from one brain region to others\n",
    "\n",
    "Each dot represents the response from each input from the specified input region (LAL(R) here) to every output in the neuron (each output brain region is indicated)."
   ]
  },
  {
   "cell_type": "code",
   "execution_count": 62,
   "metadata": {},
   "outputs": [
    {
     "data": {
      "image/png": "[encoded data removed]",
      "text/plain": [
       "<Figure size 576x576 with 1 Axes>"
      ]
     },
     "execution_count": 62,
     "metadata": {},
     "output_type": "execute_result"
    }
   ],
   "source": [
    "res.plot_response_from_region(\"LAL(R)\")"
   ]
  },
  {
   "cell_type": "code",
   "execution_count": null,
   "metadata": {},
   "outputs": [],
   "source": []
  }
 ],
 "metadata": {
  "kernelspec": {
   "display_name": "Python 3",
   "language": "python",
   "name": "python3"
  },
  "language_info": {
   "codemirror_mode": {
    "name": "ipython",
    "version": 3
   },
   "file_extension": ".py",
   "mimetype": "text/x-python",
   "name": "python",
   "nbconvert_exporter": "python",
   "pygments_lexer": "ipython3",
   "version": "3.7.6"
  }
 },
 "nbformat": 4,
 "nbformat_minor": 4
}
